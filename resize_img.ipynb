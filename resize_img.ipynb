{
 "cells": [
  {
   "cell_type": "code",
   "execution_count": 1,
   "metadata": {},
   "outputs": [],
   "source": [
    "import pandas as pd\n",
    "import numpy as np\n",
    "import matplotlib.pyplot as plt\n",
    "from PIL import Image, ImageDraw\n",
    "import torch\n",
    "import torch.nn as nn\n",
    "from torchvision.transforms import transforms, v2\n",
    "import os\n",
    "import func_file, CustomClass"
   ]
  },
  {
   "cell_type": "code",
   "execution_count": 2,
   "metadata": {},
   "outputs": [],
   "source": [
    "datapath = './ArTaxOr/'\n",
    "annopath = '/annotations'"
   ]
  },
  {
   "cell_type": "code",
   "execution_count": 3,
   "metadata": {},
   "outputs": [
    {
     "data": {
      "text/plain": [
       "['Araneae',\n",
       " 'Coleoptera',\n",
       " 'Diptera',\n",
       " 'Hemiptera',\n",
       " 'Hymenoptera',\n",
       " 'Lepidoptera',\n",
       " 'Odonata']"
      ]
     },
     "execution_count": 3,
     "metadata": {},
     "output_type": "execute_result"
    }
   ],
   "source": [
    "labels = [f for f in os.listdir(datapath) if os.path.isdir(datapath+f)]\n",
    "labels"
   ]
  },
  {
   "cell_type": "code",
   "execution_count": 4,
   "metadata": {},
   "outputs": [],
   "source": [
    "toTensor = transforms.PILToTensor()\n",
    "toImg = transforms.ToPILImage()"
   ]
  },
  {
   "cell_type": "code",
   "execution_count": 36,
   "metadata": {},
   "outputs": [],
   "source": [
    "annotDF = pd.read_csv('./annotations.csv', index_col=0)"
   ]
  },
  {
   "cell_type": "code",
   "execution_count": 37,
   "metadata": {},
   "outputs": [],
   "source": [
    "testimg = Image.open(datapath+labels[0]+'/'+annotDF['name'][0])"
   ]
  },
  {
   "cell_type": "code",
   "execution_count": 7,
   "metadata": {},
   "outputs": [],
   "source": [
    "basetf = func_file.baseTF"
   ]
  },
  {
   "cell_type": "code",
   "execution_count": 8,
   "metadata": {},
   "outputs": [],
   "source": [
    "testts = basetf(testimg)"
   ]
  },
  {
   "cell_type": "code",
   "execution_count": 10,
   "metadata": {},
   "outputs": [],
   "source": [
    "Image._show(toImg(testts))"
   ]
  },
  {
   "cell_type": "code",
   "execution_count": 11,
   "metadata": {},
   "outputs": [
    {
     "data": {
      "text/plain": [
       "array([ 997.51619573,  530.60005171, 1847.33149552, 1481.50387797])"
      ]
     },
     "execution_count": 11,
     "metadata": {},
     "output_type": "execute_result"
    }
   ],
   "source": [
    "bound = annotDF[['x1', 'y1', 'x2', 'y2']].iloc[0].values\n",
    "bound"
   ]
  },
  {
   "cell_type": "code",
   "execution_count": 17,
   "metadata": {},
   "outputs": [
    {
     "data": {
      "text/plain": [
       "48.53125"
      ]
     },
     "execution_count": 17,
     "metadata": {},
     "output_type": "execute_result"
    }
   ],
   "source": [
    "annotDF['width'][0] / 64"
   ]
  },
  {
   "cell_type": "code",
   "execution_count": 18,
   "metadata": {},
   "outputs": [
    {
     "data": {
      "text/plain": [
       "20.554100620261888"
      ]
     },
     "execution_count": 18,
     "metadata": {},
     "output_type": "execute_result"
    }
   ],
   "source": [
    "bound[0] / (annotDF['width'][0] / 64)"
   ]
  },
  {
   "cell_type": "code",
   "execution_count": 16,
   "metadata": {},
   "outputs": [
    {
     "data": {
      "text/plain": [
       "32.359375"
      ]
     },
     "execution_count": 16,
     "metadata": {},
     "output_type": "execute_result"
    }
   ],
   "source": [
    "annotDF['height'][0] / 64"
   ]
  },
  {
   "cell_type": "code",
   "execution_count": 19,
   "metadata": {},
   "outputs": [
    {
     "data": {
      "text/plain": [
       "16.397104446742507"
      ]
     },
     "execution_count": 19,
     "metadata": {},
     "output_type": "execute_result"
    }
   ],
   "source": [
    "bound[1] / (annotDF['height'][0] / 64)"
   ]
  },
  {
   "cell_type": "code",
   "execution_count": 30,
   "metadata": {},
   "outputs": [],
   "source": [
    "resizedimg = toImg(testts)\n",
    "draw = ImageDraw.Draw(resizedimg)\n",
    "draw.rectangle([bound[0] / (annotDF['width'][0] / 64),\n",
    "                bound[1] / (annotDF['height'][0] / 64),\n",
    "                bound[2] / (annotDF['width'][0] / 64),\n",
    "                bound[3] / (annotDF['height'][0] / 64)],\n",
    "                outline=(0,255,0), width = 1)\n",
    "\n",
    "resizedimg.show()"
   ]
  },
  {
   "cell_type": "code",
   "execution_count": 38,
   "metadata": {},
   "outputs": [],
   "source": [
    "annotDF['scaled_x1'] = annotDF['x1'] / (annotDF['width'] / 64)\n",
    "annotDF['scaled_y1'] = annotDF['y1'] / (annotDF['height'] / 64)\n",
    "annotDF['scaled_x2'] = annotDF['x2'] / (annotDF['width'] / 64)\n",
    "annotDF['scaled_y2'] = annotDF['y2'] / (annotDF['height'] / 64)"
   ]
  },
  {
   "cell_type": "code",
   "execution_count": 39,
   "metadata": {},
   "outputs": [
    {
     "data": {
      "text/html": [
       "<div>\n",
       "<style scoped>\n",
       "    .dataframe tbody tr th:only-of-type {\n",
       "        vertical-align: middle;\n",
       "    }\n",
       "\n",
       "    .dataframe tbody tr th {\n",
       "        vertical-align: top;\n",
       "    }\n",
       "\n",
       "    .dataframe thead th {\n",
       "        text-align: right;\n",
       "    }\n",
       "</style>\n",
       "<table border=\"1\" class=\"dataframe\">\n",
       "  <thead>\n",
       "    <tr style=\"text-align: right;\">\n",
       "      <th></th>\n",
       "      <th>name</th>\n",
       "      <th>label</th>\n",
       "      <th>width</th>\n",
       "      <th>height</th>\n",
       "      <th>x1</th>\n",
       "      <th>y1</th>\n",
       "      <th>x2</th>\n",
       "      <th>y2</th>\n",
       "      <th>scaled_x1</th>\n",
       "      <th>scaled_y1</th>\n",
       "      <th>scaled_x2</th>\n",
       "      <th>scaled_y2</th>\n",
       "    </tr>\n",
       "  </thead>\n",
       "  <tbody>\n",
       "    <tr>\n",
       "      <th>0</th>\n",
       "      <td>4679235f3408.jpg</td>\n",
       "      <td>Araneae</td>\n",
       "      <td>3106</td>\n",
       "      <td>2071</td>\n",
       "      <td>997.516196</td>\n",
       "      <td>530.600052</td>\n",
       "      <td>1847.331496</td>\n",
       "      <td>1481.503878</td>\n",
       "      <td>20.554101</td>\n",
       "      <td>16.397104</td>\n",
       "      <td>38.064783</td>\n",
       "      <td>45.782834</td>\n",
       "    </tr>\n",
       "    <tr>\n",
       "      <th>1</th>\n",
       "      <td>dcc9e14d4ba6.jpg</td>\n",
       "      <td>Araneae</td>\n",
       "      <td>2048</td>\n",
       "      <td>1480</td>\n",
       "      <td>456.858131</td>\n",
       "      <td>229.655172</td>\n",
       "      <td>1789.121107</td>\n",
       "      <td>1230.498084</td>\n",
       "      <td>14.276817</td>\n",
       "      <td>9.931034</td>\n",
       "      <td>55.910035</td>\n",
       "      <td>53.210728</td>\n",
       "    </tr>\n",
       "    <tr>\n",
       "      <th>2</th>\n",
       "      <td>c44435e41f1c.jpg</td>\n",
       "      <td>Araneae</td>\n",
       "      <td>1542</td>\n",
       "      <td>1157</td>\n",
       "      <td>514.276940</td>\n",
       "      <td>364.941589</td>\n",
       "      <td>975.705344</td>\n",
       "      <td>856.936916</td>\n",
       "      <td>21.344828</td>\n",
       "      <td>20.186916</td>\n",
       "      <td>40.496201</td>\n",
       "      <td>47.401869</td>\n",
       "    </tr>\n",
       "    <tr>\n",
       "      <th>3</th>\n",
       "      <td>82e12b85e69c.jpg</td>\n",
       "      <td>Araneae</td>\n",
       "      <td>2981</td>\n",
       "      <td>1980</td>\n",
       "      <td>1129.944866</td>\n",
       "      <td>498.883234</td>\n",
       "      <td>1879.817367</td>\n",
       "      <td>1579.256678</td>\n",
       "      <td>24.259132</td>\n",
       "      <td>16.125519</td>\n",
       "      <td>40.358374</td>\n",
       "      <td>51.046680</td>\n",
       "    </tr>\n",
       "    <tr>\n",
       "      <th>4</th>\n",
       "      <td>5994b0b795f5.jpg</td>\n",
       "      <td>Araneae</td>\n",
       "      <td>2048</td>\n",
       "      <td>1536</td>\n",
       "      <td>33.103448</td>\n",
       "      <td>476.689655</td>\n",
       "      <td>1961.931034</td>\n",
       "      <td>1246.160920</td>\n",
       "      <td>1.034483</td>\n",
       "      <td>19.862069</td>\n",
       "      <td>61.310345</td>\n",
       "      <td>51.923372</td>\n",
       "    </tr>\n",
       "  </tbody>\n",
       "</table>\n",
       "</div>"
      ],
      "text/plain": [
       "               name    label  width  height           x1          y1  \\\n",
       "0  4679235f3408.jpg  Araneae   3106    2071   997.516196  530.600052   \n",
       "1  dcc9e14d4ba6.jpg  Araneae   2048    1480   456.858131  229.655172   \n",
       "2  c44435e41f1c.jpg  Araneae   1542    1157   514.276940  364.941589   \n",
       "3  82e12b85e69c.jpg  Araneae   2981    1980  1129.944866  498.883234   \n",
       "4  5994b0b795f5.jpg  Araneae   2048    1536    33.103448  476.689655   \n",
       "\n",
       "            x2           y2  scaled_x1  scaled_y1  scaled_x2  scaled_y2  \n",
       "0  1847.331496  1481.503878  20.554101  16.397104  38.064783  45.782834  \n",
       "1  1789.121107  1230.498084  14.276817   9.931034  55.910035  53.210728  \n",
       "2   975.705344   856.936916  21.344828  20.186916  40.496201  47.401869  \n",
       "3  1879.817367  1579.256678  24.259132  16.125519  40.358374  51.046680  \n",
       "4  1961.931034  1246.160920   1.034483  19.862069  61.310345  51.923372  "
      ]
     },
     "execution_count": 39,
     "metadata": {},
     "output_type": "execute_result"
    }
   ],
   "source": [
    "annotDF.head()"
   ]
  },
  {
   "cell_type": "code",
   "execution_count": 40,
   "metadata": {},
   "outputs": [],
   "source": [
    "annotDF.to_csv('.annot_scaled.csv')"
   ]
  },
  {
   "cell_type": "code",
   "execution_count": null,
   "metadata": {},
   "outputs": [],
   "source": [
    "pooler"
   ]
  }
 ],
 "metadata": {
  "kernelspec": {
   "display_name": "Python 3",
   "language": "python",
   "name": "python3"
  },
  "language_info": {
   "codemirror_mode": {
    "name": "ipython",
    "version": 3
   },
   "file_extension": ".py",
   "mimetype": "text/x-python",
   "name": "python",
   "nbconvert_exporter": "python",
   "pygments_lexer": "ipython3",
   "version": "3.8.18"
  }
 },
 "nbformat": 4,
 "nbformat_minor": 2
}
